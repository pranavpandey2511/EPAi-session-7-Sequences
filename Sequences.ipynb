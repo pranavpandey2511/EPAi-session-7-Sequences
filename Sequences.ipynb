{
 "cells": [
  {
   "cell_type": "markdown",
   "metadata": {},
   "source": [
    "### Assignment 7B"
   ]
  },
  {
   "cell_type": "markdown",
   "metadata": {},
   "source": [
    "A regular strictly convex polygon is a polygon that has the following characteristics:\n",
    "all interior angles are less than 180\n",
    "all sides have equal length\n",
    " \n",
    "For a regular strictly convex polygon with:\n",
    "$interiorAngle\\:=\\:\\left(n\\:-\\:2\\right)\\cdot\\frac{180}{n}$\n",
    "<br>\n",
    "$edgeLength,\\:s\\:=\\:2\\cdot R\\cdot\\sin\\left(\\frac{\\pi}{n}\\right)$\n",
    "\n",
    "$apothem,\\:a\\:=\\:R\\cdot\\cos\\left(\\frac{\\pi}{n}\\right)$\n",
    "\n",
    "$area\\:=\\:\\frac{1}{2}\\cdot n\\cdot s\\cdot a$\n",
    "\n",
    "$ perimeter\\:=\\:n\\cdot s$\n",
    "\n",
    "\n",
    "### Objective 1 [pts:400]:\n",
    "\n",
    "Create a Polygon Class:\n",
    "where initializer takes in:\n",
    "number of edges/vertices\n",
    "circumradius\n",
    "that can provide these properties:\n",
    "* edges\n",
    "* vertices\n",
    "* interior angle\n",
    "* edge length\n",
    "* apothem\n",
    "* area\n",
    "* perimeter\n",
    "\n",
    "that has these functionalities:\n",
    "\n",
    "* a proper __repr__ function\n",
    "* implements equality (==) based on # vertices and circumradius (__eq__)\n",
    "* implements > based on number of vertices only (__gt__)\n",
    "\n",
    "### Objective 2 [pts:600]:\n",
    "Implement a Custom Polygon sequence type:\n",
    "where initializer takes in:\n",
    "* number of vertices for largest polygon in the sequence\n",
    "* common circumradius for all polygons\n",
    "\n",
    "that can provide these properties:\n",
    "* max efficiency polygon: returns the Polygon with the highest area: perimeter ratio\n",
    "that has these functionalities:\n",
    "\n",
    "* functions as a sequence type (__getitem__)\n",
    "* supports the len() function (__len__)\n",
    "* has a proper representation (__repr__)"
   ]
  },
  {
   "cell_type": "code",
   "execution_count": 1,
   "metadata": {},
   "outputs": [],
   "source": [
    "from polygon import Polygon"
   ]
  },
  {
   "cell_type": "code",
   "execution_count": 2,
   "metadata": {},
   "outputs": [
    {
     "name": "stdout",
     "output_type": "stream",
     "text": [
      "Help on class Polygon in module polygon:\n",
      "\n",
      "class Polygon(builtins.object)\n",
      " |  This class is used for creating regular strict polygons.\n",
      " |  \n",
      " |  Methods defined here:\n",
      " |  \n",
      " |  __eq__(self, poly)\n",
      " |      Provides ability to compare two objects for euality (==).\n",
      " |  \n",
      " |  __gt__(self, poly)\n",
      " |      Provide ability to compare two objects for greater than '>' test.\n",
      " |  \n",
      " |  __init__(self, n_edges:int, circumradius:float)\n",
      " |      Initialize self.  See help(type(self)) for accurate signature.\n",
      " |  \n",
      " |  __repr__(self)\n",
      " |      Return repr(self).\n",
      " |  \n",
      " |  ----------------------------------------------------------------------\n",
      " |  Data descriptors defined here:\n",
      " |  \n",
      " |  __dict__\n",
      " |      dictionary for instance variables (if defined)\n",
      " |  \n",
      " |  __weakref__\n",
      " |      list of weak references to the object (if defined)\n",
      " |  \n",
      " |  apothem\n",
      " |      Apothem length for the polygon\n",
      " |  \n",
      " |  area\n",
      " |      Area of the polygon\n",
      " |  \n",
      " |  circumradius\n",
      " |      Circumradius of the polygon\n",
      " |  \n",
      " |  edge_length\n",
      " |      Edge length of individual edge in the polygon\n",
      " |  \n",
      " |  interior_angle\n",
      " |      Interior angle value of each angle in the polygon\n",
      " |  \n",
      " |  n_edges\n",
      " |      Number of edges in the polygon\n",
      " |  \n",
      " |  perimeter\n",
      " |      Perimeter of the polygon\n",
      " |  \n",
      " |  ----------------------------------------------------------------------\n",
      " |  Data and other attributes defined here:\n",
      " |  \n",
      " |  __hash__ = None\n",
      "\n"
     ]
    }
   ],
   "source": [
    "help(Polygon)"
   ]
  },
  {
   "cell_type": "code",
   "execution_count": 4,
   "metadata": {},
   "outputs": [
    {
     "data": {
      "text/plain": [
       "Polygon class to create polygons which are regular strictly convex.\n",
       "        Regular strict polygons have two properties: \n",
       " 1- All interior angles are less than 180.         \n",
       " 2- All sides have equal length"
      ]
     },
     "execution_count": 4,
     "metadata": {},
     "output_type": "execute_result"
    }
   ],
   "source": [
    "Polygon(n_edges=4, circumradius=4)"
   ]
  },
  {
   "cell_type": "markdown",
   "metadata": {},
   "source": [
    "<h3> Objective 1 </h3>"
   ]
  },
  {
   "cell_type": "code",
   "execution_count": 5,
   "metadata": {},
   "outputs": [],
   "source": [
    "poly1 = Polygon(4, 4)\n",
    "poly2 = Polygon(5, 3)\n",
    "poly3 = Polygon(4, 6)"
   ]
  },
  {
   "cell_type": "code",
   "execution_count": 7,
   "metadata": {},
   "outputs": [
    {
     "data": {
      "text/plain": [
       "4"
      ]
     },
     "execution_count": 7,
     "metadata": {},
     "output_type": "execute_result"
    }
   ],
   "source": [
    "poly1.n_edges"
   ]
  },
  {
   "cell_type": "code",
   "execution_count": 9,
   "metadata": {},
   "outputs": [
    {
     "data": {
      "text/plain": [
       "90.0"
      ]
     },
     "execution_count": 9,
     "metadata": {},
     "output_type": "execute_result"
    }
   ],
   "source": [
    "poly1.interior_angle"
   ]
  },
  {
   "cell_type": "code",
   "execution_count": 8,
   "metadata": {},
   "outputs": [
    {
     "data": {
      "text/plain": [
       "5.65685424949238"
      ]
     },
     "execution_count": 8,
     "metadata": {},
     "output_type": "execute_result"
    }
   ],
   "source": [
    "poly1.edge_length"
   ]
  },
  {
   "cell_type": "code",
   "execution_count": 10,
   "metadata": {},
   "outputs": [
    {
     "data": {
      "text/plain": [
       "2.8284271247461903"
      ]
     },
     "execution_count": 10,
     "metadata": {},
     "output_type": "execute_result"
    }
   ],
   "source": [
    "poly1.apothem"
   ]
  },
  {
   "cell_type": "code",
   "execution_count": 11,
   "metadata": {},
   "outputs": [
    {
     "data": {
      "text/plain": [
       "32.0"
      ]
     },
     "execution_count": 11,
     "metadata": {},
     "output_type": "execute_result"
    }
   ],
   "source": [
    "poly1.area"
   ]
  },
  {
   "cell_type": "code",
   "execution_count": 13,
   "metadata": {},
   "outputs": [
    {
     "data": {
      "text/plain": [
       "22.62741699796952"
      ]
     },
     "execution_count": 13,
     "metadata": {},
     "output_type": "execute_result"
    }
   ],
   "source": [
    "poly1.perimeter"
   ]
  },
  {
   "cell_type": "markdown",
   "metadata": {},
   "source": [
    "**\\_\\_repr\\_\\_**"
   ]
  },
  {
   "cell_type": "code",
   "execution_count": 14,
   "metadata": {},
   "outputs": [
    {
     "data": {
      "text/plain": [
       "Polygon class to create polygons which are regular strictly convex.\n",
       "        Regular strict polygons have two properties: \n",
       " 1- All interior angles are less than 180.         \n",
       " 2- All sides have equal length"
      ]
     },
     "execution_count": 14,
     "metadata": {},
     "output_type": "execute_result"
    }
   ],
   "source": [
    "Polygon(n_edges=4, circumradius=4)"
   ]
  },
  {
   "cell_type": "markdown",
   "metadata": {},
   "source": [
    "**EQUAL TO '=='**"
   ]
  },
  {
   "cell_type": "code",
   "execution_count": 18,
   "metadata": {},
   "outputs": [
    {
     "data": {
      "text/plain": [
       "False"
      ]
     },
     "execution_count": 18,
     "metadata": {},
     "output_type": "execute_result"
    }
   ],
   "source": [
    "poly1 == poly2"
   ]
  },
  {
   "cell_type": "code",
   "execution_count": 19,
   "metadata": {},
   "outputs": [
    {
     "data": {
      "text/plain": [
       "False"
      ]
     },
     "execution_count": 19,
     "metadata": {},
     "output_type": "execute_result"
    }
   ],
   "source": [
    "poly1 == poly3"
   ]
  },
  {
   "cell_type": "code",
   "execution_count": 21,
   "metadata": {},
   "outputs": [
    {
     "data": {
      "text/plain": [
       "True"
      ]
     },
     "execution_count": 21,
     "metadata": {},
     "output_type": "execute_result"
    }
   ],
   "source": [
    "poly1 == Polygon(n_edges=4, circumradius=4) # Same vertices and circumradius"
   ]
  },
  {
   "cell_type": "markdown",
   "metadata": {},
   "source": [
    "**GREATER THAN '>'**"
   ]
  },
  {
   "cell_type": "code",
   "execution_count": 15,
   "metadata": {},
   "outputs": [
    {
     "data": {
      "text/plain": [
       "False"
      ]
     },
     "execution_count": 15,
     "metadata": {},
     "output_type": "execute_result"
    }
   ],
   "source": [
    "poly1 > poly2"
   ]
  },
  {
   "cell_type": "code",
   "execution_count": 16,
   "metadata": {},
   "outputs": [
    {
     "data": {
      "text/plain": [
       "True"
      ]
     },
     "execution_count": 16,
     "metadata": {},
     "output_type": "execute_result"
    }
   ],
   "source": [
    "poly2 > poly1"
   ]
  },
  {
   "cell_type": "code",
   "execution_count": 17,
   "metadata": {},
   "outputs": [
    {
     "data": {
      "text/plain": [
       "False"
      ]
     },
     "execution_count": 17,
     "metadata": {},
     "output_type": "execute_result"
    }
   ],
   "source": [
    "poly1 > poly3"
   ]
  },
  {
   "cell_type": "markdown",
   "metadata": {},
   "source": []
  },
  {
   "cell_type": "code",
   "execution_count": null,
   "metadata": {},
   "outputs": [],
   "source": []
  },
  {
   "cell_type": "code",
   "execution_count": null,
   "metadata": {},
   "outputs": [],
   "source": []
  },
  {
   "cell_type": "markdown",
   "metadata": {},
   "source": [
    "### Objective 2"
   ]
  },
  {
   "cell_type": "markdown",
   "metadata": {},
   "source": [
    "### Custom polygon sequence"
   ]
  },
  {
   "cell_type": "code",
   "execution_count": 1,
   "metadata": {},
   "outputs": [],
   "source": [
    "from poly_list import PolyList"
   ]
  },
  {
   "cell_type": "code",
   "execution_count": 8,
   "metadata": {},
   "outputs": [
    {
     "name": "stdout",
     "output_type": "stream",
     "text": [
      "Help on class PolyList in module poly_list:\n",
      "\n",
      "class PolyList(builtins.object)\n",
      " |  Methods defined here:\n",
      " |  \n",
      " |  __getitem__(self, index)\n",
      " |  \n",
      " |  __init__(self, n_edges_max:int, circumradius:float)\n",
      " |      Initialize self.  See help(type(self)) for accurate signature.\n",
      " |  \n",
      " |  __len__(self)\n",
      " |  \n",
      " |  __repr__(self)\n",
      " |      Return repr(self).\n",
      " |  \n",
      " |  ----------------------------------------------------------------------\n",
      " |  Data descriptors defined here:\n",
      " |  \n",
      " |  __dict__\n",
      " |      dictionary for instance variables (if defined)\n",
      " |  \n",
      " |  __weakref__\n",
      " |      list of weak references to the object (if defined)\n",
      " |  \n",
      " |  most_efficient\n",
      " |      Most efficient polygon in terms of area:perimeter ratio.\n",
      " |      This will always be the max vertices polygon.\n",
      "\n"
     ]
    }
   ],
   "source": [
    "help(PolyList)"
   ]
  },
  {
   "cell_type": "code",
   "execution_count": 2,
   "metadata": {},
   "outputs": [],
   "source": [
    "my_poly = PolyList(5,4)"
   ]
  },
  {
   "cell_type": "code",
   "execution_count": 3,
   "metadata": {},
   "outputs": [
    {
     "data": {
      "text/plain": [
       "Number of Edges: 3, Circumradius: 4"
      ]
     },
     "execution_count": 3,
     "metadata": {},
     "output_type": "execute_result"
    }
   ],
   "source": [
    "my_poly[1]"
   ]
  },
  {
   "cell_type": "code",
   "execution_count": 4,
   "metadata": {},
   "outputs": [
    {
     "data": {
      "text/plain": [
       "Number of Edges: 5, Circumradius: 4"
      ]
     },
     "execution_count": 4,
     "metadata": {},
     "output_type": "execute_result"
    }
   ],
   "source": [
    "my_poly.most_efficient"
   ]
  },
  {
   "cell_type": "markdown",
   "metadata": {},
   "source": [
    "For n=25, most efficient polygon:"
   ]
  },
  {
   "cell_type": "code",
   "execution_count": 5,
   "metadata": {},
   "outputs": [],
   "source": [
    "new_list = PolyList(25, 7)"
   ]
  },
  {
   "cell_type": "code",
   "execution_count": 6,
   "metadata": {},
   "outputs": [
    {
     "data": {
      "text/plain": [
       "Number of Edges: 25, Circumradius: 7"
      ]
     },
     "execution_count": 6,
     "metadata": {},
     "output_type": "execute_result"
    }
   ],
   "source": [
    "new_list.most_efficient"
   ]
  },
  {
   "cell_type": "code",
   "execution_count": null,
   "metadata": {},
   "outputs": [],
   "source": []
  }
 ],
 "metadata": {
  "kernelspec": {
   "display_name": "Python 3.6.12 64-bit ('pytorch': conda)",
   "language": "python",
   "name": "python361264bitpytorchcondace68f798a63f4a4d86bbcebff95ff690"
  },
  "language_info": {
   "codemirror_mode": {
    "name": "ipython",
    "version": 3
   },
   "file_extension": ".py",
   "mimetype": "text/x-python",
   "name": "python",
   "nbconvert_exporter": "python",
   "pygments_lexer": "ipython3",
   "version": "3.6.12"
  }
 },
 "nbformat": 4,
 "nbformat_minor": 4
}
